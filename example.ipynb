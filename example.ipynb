{
 "cells": [
  {
   "cell_type": "markdown",
   "metadata": {},
   "source": [
    "https://pushover.net/"
   ]
  },
  {
   "cell_type": "markdown",
   "metadata": {},
   "source": [
    "To get API token go to https://pushover.net/apps/build"
   ]
  },
  {
   "cell_type": "code",
   "execution_count": null,
   "metadata": {
    "ExecuteTime": {
     "end_time": "2017-12-11T22:53:46.537660Z",
     "start_time": "2017-12-11T22:53:46.532890Z"
    }
   },
   "outputs": [],
   "source": [
    "import requests"
   ]
  },
  {
   "cell_type": "markdown",
   "metadata": {},
   "source": [
    "Write config to a file."
   ]
  },
  {
   "cell_type": "code",
   "execution_count": null,
   "metadata": {
    "ExecuteTime": {
     "end_time": "2017-12-11T22:52:13.088488Z",
     "start_time": "2017-12-11T22:52:13.082000Z"
    }
   },
   "outputs": [],
   "source": [
    "pushover_config = {\n",
    "     \"token\":  \"api token\"\n",
    "    ,\"user\":   \"here use your user key\"\n",
    "    ,\"device\": \"here use your device name\"\n",
    "}"
   ]
  },
  {
   "cell_type": "code",
   "execution_count": null,
   "metadata": {
    "ExecuteTime": {
     "end_time": "2017-12-11T22:52:19.587670Z",
     "start_time": "2017-12-11T22:52:19.582151Z"
    }
   },
   "outputs": [],
   "source": [
    "with open('pushover.config','w') as f:\n",
    "    f.write(str(pushover_config))"
   ]
  },
  {
   "cell_type": "markdown",
   "metadata": {},
   "source": [
    "Check if reading config works."
   ]
  },
  {
   "cell_type": "code",
   "execution_count": null,
   "metadata": {
    "ExecuteTime": {
     "end_time": "2017-12-11T22:57:19.684910Z",
     "start_time": "2017-12-11T22:57:19.680344Z"
    }
   },
   "outputs": [],
   "source": [
    "with open('pushover.config','r') as f:\n",
    "    pushover_config = eval(f.read())"
   ]
  },
  {
   "cell_type": "code",
   "execution_count": null,
   "metadata": {
    "ExecuteTime": {
     "end_time": "2017-12-11T23:01:35.693261Z",
     "start_time": "2017-12-11T23:01:35.682814Z"
    }
   },
   "outputs": [],
   "source": [
    "pushover_config"
   ]
  },
  {
   "cell_type": "code",
   "execution_count": null,
   "metadata": {
    "ExecuteTime": {
     "end_time": "2017-12-11T22:57:35.601462Z",
     "start_time": "2017-12-11T22:57:35.584939Z"
    }
   },
   "outputs": [],
   "source": [
    "def pushover(message, config=None):\n",
    "    # if you do not pass dictionary with pushover config \n",
    "    # it will try to read it from the file\n",
    "    if not config:\n",
    "        with open('pushover.config','r') as f:\n",
    "            config = eval(f.read())\n",
    "    url = 'https://api.pushover.net/1/messages.json'\n",
    "    payload = {\n",
    "     \"token\":   config['token'], \n",
    "     \"user\":    config['user'],  \n",
    "     \"message\": message, \n",
    "     \"device\":  config['device']\n",
    "    }\n",
    "    headers={'Content-Type': 'application/json',  \"User-Agent\": \"curl/7.47.0\", \"Accept\": \"*/*\"}\n",
    "    res = requests.post(url, json=payload, headers=headers)\n",
    "    if res.status_code != 200:\n",
    "        print(\"pushover, we've got a problem {}\".format(res.status_code))"
   ]
  },
  {
   "cell_type": "code",
   "execution_count": null,
   "metadata": {
    "ExecuteTime": {
     "end_time": "2017-12-11T22:57:36.581039Z",
     "start_time": "2017-12-11T22:57:36.045529Z"
    }
   },
   "outputs": [],
   "source": [
    "pushover(\"test_message 2\", config=None)"
   ]
  },
  {
   "cell_type": "code",
   "execution_count": null,
   "metadata": {},
   "outputs": [],
   "source": []
  }
 ],
 "metadata": {
  "kernelspec": {
   "display_name": "Python 3",
   "language": "python",
   "name": "python3"
  },
  "language_info": {
   "codemirror_mode": {
    "name": "ipython",
    "version": 3
   },
   "file_extension": ".py",
   "mimetype": "text/x-python",
   "name": "python",
   "nbconvert_exporter": "python",
   "pygments_lexer": "ipython3",
   "version": "3.5.4"
  }
 },
 "nbformat": 4,
 "nbformat_minor": 2
}
